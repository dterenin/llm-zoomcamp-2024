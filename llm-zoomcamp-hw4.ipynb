{
 "cells": [
  {
   "cell_type": "markdown",
   "id": "5cf96f1b",
   "metadata": {},
   "source": [
    "### Question 1. Getting the embeddings model: First value (1 point)"
   ]
  },
  {
   "cell_type": "code",
   "execution_count": null,
   "outputs": [],
   "source": [
    "import pandas as pd\n",
    "\n",
    "url = 'data/results-gpt4o-mini.csv'\n",
    "df = pd.read_csv(url)"
   ],
   "metadata": {
    "collapsed": false
   }
  },
  {
   "cell_type": "code",
   "execution_count": null,
   "outputs": [],
   "source": [
    "df = df.iloc[:300]"
   ],
   "metadata": {
    "collapsed": false
   }
  },
  {
   "cell_type": "code",
   "execution_count": 46,
   "outputs": [
    {
     "name": "stdout",
     "output_type": "stream",
     "text": [
      "<class 'pandas.core.frame.DataFrame'>\n",
      "RangeIndex: 300 entries, 0 to 299\n",
      "Data columns (total 5 columns):\n",
      " #   Column       Non-Null Count  Dtype \n",
      "---  ------       --------------  ----- \n",
      " 0   answer_llm   300 non-null    object\n",
      " 1   answer_orig  300 non-null    object\n",
      " 2   document     300 non-null    object\n",
      " 3   question     300 non-null    object\n",
      " 4   course       300 non-null    object\n",
      "dtypes: object(5)\n",
      "memory usage: 11.8+ KB\n"
     ]
    }
   ],
   "source": [
    "df.info()"
   ],
   "metadata": {
    "collapsed": false
   }
  },
  {
   "cell_type": "code",
   "execution_count": null,
   "outputs": [],
   "source": [
    "from sentence_transformers import SentenceTransformer\n",
    "model_name = \"multi-qa-mpnet-base-dot-v1\"\n",
    "embedding_model = SentenceTransformer(model_name)"
   ],
   "metadata": {
    "collapsed": false
   }
  },
  {
   "cell_type": "code",
   "execution_count": 48,
   "outputs": [
    {
     "name": "stdout",
     "output_type": "stream",
     "text": [
      "First value of the resulting vector: -0.42244658\n"
     ]
    }
   ],
   "source": [
    "answer_llm = df.iloc[0].answer_llm\n",
    "\n",
    "# Generate the embeddings for the first LLM answer\n",
    "embeddings = embedding_model.encode(answer_llm)\n",
    "\n",
    "# Get the first value of the resulting vector\n",
    "first_value = embeddings[0]\n",
    "print(\"First value of the resulting vector:\", first_value)"
   ],
   "metadata": {
    "collapsed": false
   }
  },
  {
   "cell_type": "markdown",
   "id": "f180e16f",
   "metadata": {},
   "source": [
    "### Question 2. Dot product: 75 percentile (1 point)"
   ]
  },
  {
   "cell_type": "code",
   "execution_count": 30,
   "outputs": [
    {
     "name": "stdout",
     "output_type": "stream",
     "text": [
      "75th percentile of the scores: 31.674304008483887\n"
     ]
    }
   ],
   "source": [
    "import numpy as np\n",
    "v_llm = embedding_model.encode(df['answer_llm'].tolist())\n",
    "v_orig = embedding_model.encode(df['answer_orig'].tolist())\n",
    "\n",
    "dot_products = np.sum(v_llm * v_orig, axis=1)\n",
    "\n",
    "# Compute the 75th percentile of the similarity scores\n",
    "percentile_75 = np.percentile(dot_products, 75)\n",
    "print(\"75th percentile of the scores:\", percentile_75)"
   ],
   "metadata": {
    "collapsed": false
   }
  },
  {
   "cell_type": "markdown",
   "id": "2c94e5f9",
   "metadata": {},
   "source": [
    "### Question 3. Cosine 75 percentile (1 point)"
   ]
  },
  {
   "cell_type": "code",
   "execution_count": 49,
   "outputs": [
    {
     "name": "stdout",
     "output_type": "stream",
     "text": [
      "75th percentile of the cosine similarities: 0.8362347483634949\n"
     ]
    }
   ],
   "source": [
    "def normalize(v):\n",
    "    norm = np.sqrt((v * v).sum(axis=1, keepdims=True))\n",
    "    return v / norm\n",
    "\n",
    "v_llm_norm = normalize(v_llm)\n",
    "v_orig_norm = normalize(v_orig)\n",
    "\n",
    "cosine_similarities = np.sum(v_llm_norm * v_orig_norm, axis=1)\n",
    "\n",
    "percentile_75 = np.percentile(cosine_similarities, 75)\n",
    "print(\"75th percentile of the cosine similarities:\", percentile_75)"
   ],
   "metadata": {
    "collapsed": false
   }
  },
  {
   "cell_type": "markdown",
   "id": "4f8058a7",
   "metadata": {},
   "source": [
    "### Question 4. Rouge 1 F (1 point)"
   ]
  },
  {
   "cell_type": "code",
   "execution_count": 40,
   "outputs": [
    {
     "name": "stdout",
     "output_type": "stream",
     "text": [
      "ROUGE-1 F1 score: 0.45454544954545456\n"
     ]
    }
   ],
   "source": [
    "sample_row = df.iloc[10]  # Retrieve row with doc_id=5170565b\n",
    "\n",
    "from rouge import Rouge\n",
    "\n",
    "rouge_scorer = Rouge()\n",
    "\n",
    "scores = rouge_scorer.get_scores(sample_row['answer_llm'], sample_row['answer_orig'])[0]\n",
    "\n",
    "rouge_1_f1_score = scores['rouge-1']['f']\n",
    "\n",
    "print(\"ROUGE-1 F1 score:\", rouge_1_f1_score)"
   ],
   "metadata": {
    "collapsed": false
   }
  },
  {
   "cell_type": "markdown",
   "id": "0e6788f0",
   "metadata": {},
   "source": [
    "### Question 5. Average Rouge (1 point)"
   ]
  },
  {
   "cell_type": "code",
   "execution_count": 41,
   "outputs": [
    {
     "name": "stdout",
     "output_type": "stream",
     "text": [
      "Average F1 score: 0.35490034990035496\n"
     ]
    }
   ],
   "source": [
    "f1_rouge_1 = scores['rouge-1']['f']\n",
    "f1_rouge_2 = scores['rouge-2']['f']\n",
    "f1_rouge_l = scores['rouge-l']['f']\n",
    "\n",
    "average_f1_score = (f1_rouge_1 + f1_rouge_2 + f1_rouge_l) / 3\n",
    "\n",
    "print(\"Average F1 score:\", average_f1_score)"
   ],
   "metadata": {
    "collapsed": false
   }
  },
  {
   "cell_type": "markdown",
   "id": "cf0967b8",
   "metadata": {},
   "source": [
    "### Question 6. Average Rouge 2 (1 point)"
   ]
  },
  {
   "cell_type": "code",
   "execution_count": 50,
   "outputs": [
    {
     "name": "stdout",
     "output_type": "stream",
     "text": [
      "Average ROUGE-2 F1 score across all records: 0.20696501983423318\n"
     ]
    }
   ],
   "source": [
    "rouge_2_f1_scores = []\n",
    "\n",
    "# Iterate over each row in the DataFrame\n",
    "for _, row in df.iterrows():\n",
    "    scores = rouge_scorer.get_scores(row['answer_llm'], row['answer_orig'])[0]\n",
    "    f1_rouge_2 = scores['rouge-2']['f']\n",
    "    rouge_2_f1_scores.append(f1_rouge_2)\n",
    "\n",
    "rouge_2_df = pd.DataFrame(rouge_2_f1_scores, columns=['rouge_2_f1'])\n",
    "average_rouge_2_f1 = rouge_2_df['rouge_2_f1'].mean()\n",
    "\n",
    "print(\"Average ROUGE-2 F1 score across all records:\", average_rouge_2_f1)"
   ],
   "metadata": {
    "collapsed": false
   }
  }
 ],
 "metadata": {
  "kernelspec": {
   "name": "mlops",
   "language": "python",
   "display_name": "Python (MLops)"
  },
  "language_info": {
   "codemirror_mode": {
    "name": "ipython",
    "version": 3
   },
   "file_extension": ".py",
   "mimetype": "text/x-python",
   "name": "python",
   "nbconvert_exporter": "python",
   "pygments_lexer": "ipython3",
   "version": "3.8.18"
  }
 },
 "nbformat": 4,
 "nbformat_minor": 5
}
