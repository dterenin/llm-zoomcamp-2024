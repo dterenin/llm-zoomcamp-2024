{
 "cells": [
  {
   "cell_type": "markdown",
   "id": "5cf96f1b",
   "metadata": {},
   "source": [
    "### Question 1. Running Ollama with Docker. What's the version? (1 point)"
   ]
  },
  {
   "cell_type": "markdown",
   "id": "a4392a06",
   "metadata": {},
   "source": [
    "docker exec -it ollama ollama -v\n",
    "\n",
    "ollama version is 0.2.1"
   ]
  },
  {
   "cell_type": "markdown",
   "id": "f180e16f",
   "metadata": {},
   "source": [
    "### Question 2. Downloading an LLM. Manifest file (1 point)"
   ]
  },
  {
   "cell_type": "markdown",
   "id": "1b47a666",
   "metadata": {},
   "source": [
    "{\"schemaVersion\":2,\"mediaType\":\"application/vnd.docker.distribution.manifest.v2+json\",\"config\":{\"mediaType\":\"application/vnd.docker.container.image.v1+json\",\"digest\":\"sha256:887433b89a901c156f7e6944442f3c9e57f3c55d6ed52042cbb7303aea994290\",\"size\":483},\"layers\":[{\"mediaType\":\"application/vnd.ollama.image.model\",\"digest\":\"sha256:c1864a5eb19305c40519da12cc543519e48a0697ecd30e15d5ac228644957d12\",\"size\":1678447520},{\"mediaType\":\"application/vnd.ollama.image.license\",\"digest\":\"sha256:097a36493f718248845233af1d3fefe7a303f864fae13bc31a3a9704229378ca\",\"size\":8433},{\"mediaType\":\"application/vnd.ollama.image.template\",\"digest\":\"sha256:109037bec39c0becc8221222ae23557559bc594290945a2c4221ab4f303b8871\",\"size\":136},{\"mediaType\":\"application/vnd.ollama.image.params\",\"digest\":\"sha256:22a838ceb7fb22755a3b0ae9b4eadde629d19be1f651f73efb8c6b4e2cd0eea0\",\"size\":84}]}"
   ]
  },
  {
   "cell_type": "markdown",
   "id": "2c94e5f9",
   "metadata": {},
   "source": [
    "### Question 3. Running the LLM. Output from 10 * 10 (1 point)"
   ]
  },
  {
   "cell_type": "markdown",
   "id": "72f4cff0",
   "metadata": {},
   "source": [
    "Sure, here is the answer to the question:  10 * 10 = 100."
   ]
  },
  {
   "cell_type": "markdown",
   "id": "4f8058a7",
   "metadata": {},
   "source": [
    "### Question 4. Downloading the weights. Size of the folder (1 point)"
   ]
  },
  {
   "cell_type": "markdown",
   "id": "d2332e05",
   "metadata": {},
   "source": [
    "1.6G    ollama_files/models/blobs"
   ]
  },
  {
   "cell_type": "markdown",
   "id": "0e6788f0",
   "metadata": {},
   "source": [
    "### Question 5. Adding the weights. Dockerfile (1 point)"
   ]
  },
  {
   "cell_type": "markdown",
   "id": "da34520b",
   "metadata": {},
   "source": [
    "FROM ollama/ollama\n",
    "\n",
    "COPY ./ollama_files /root/.ollama"
   ]
  },
  {
   "cell_type": "markdown",
   "id": "cf0967b8",
   "metadata": {},
   "source": [
    "### Question 6. Serving the LLM. Number of output tokens (1 point)"
   ]
  },
  {
   "cell_type": "code",
   "execution_count": 21,
   "id": "742ab881-499a-4675-83c4-2013ea1377b9",
   "metadata": {},
   "outputs": [],
   "source": [
    "def llm(prompt):\n",
    "    response = client.chat.completions.create(\n",
    "        model='gemma:2b',\n",
    "        messages=[{\"role\": \"user\", \"content\": prompt}],\n",
    "        temperature=0.0\n",
    "    )\n",
    "    \n",
    "    return response.choices[0].message.content"
   ]
  },
  {
   "cell_type": "code",
   "execution_count": 22,
   "id": "091a77e6-936b-448e-a04b-bad1001f5bb0",
   "metadata": {},
   "outputs": [],
   "source": [
    "from openai import OpenAI\n",
    "\n",
    "client = OpenAI(\n",
    "    base_url='http://localhost:11434/v1/',\n",
    "    api_key='ollama'\n",
    ")"
   ]
  },
  {
   "cell_type": "code",
   "execution_count": 24,
   "id": "9ee527a3-3331-4f4e-b6c8-f659ffc113f5",
   "metadata": {},
   "outputs": [
    {
     "name": "stdout",
     "output_type": "stream",
     "text": [
      "Sure, here's the formula for energy:\n",
      "\n",
      "**E = K + U**\n",
      "\n",
      "Where:\n",
      "\n",
      "* **E** is the energy in joules (J)\n",
      "* **K** is the kinetic energy in joules (J)\n",
      "* **U** is the potential energy in joules (J)\n",
      "\n",
      "**Kinetic energy (K)** is the energy an object possesses when it moves or is in motion. It is calculated as half the product of an object's mass (m) and its velocity (v) squared:\n",
      "\n",
      "**K = 1/2 * m * v^2**\n",
      "\n",
      "**Potential energy (U)** is the energy an object possesses when it is in a position or has a specific configuration. It is calculated as the product of an object's mass and the gravitational constant (g) multiplied by the height or distance of the object from a reference point.\n",
      "\n",
      "**Gravitational potential energy (U)** is given by the formula:\n",
      "\n",
      "**U = mgh**\n",
      "\n",
      "Where:\n",
      "\n",
      "* **m** is the mass of the object in kilograms (kg)\n",
      "* **g** is the acceleration due to gravity in meters per second squared (m/s^2)\n",
      "* **h** is the height or distance of the object in meters (m)\n",
      "\n",
      "The formula for energy can be used to calculate the total energy of an object, the energy of a specific part of an object, or the change in energy of an object over time.\n",
      "Total tokens:1122\n"
     ]
    }
   ],
   "source": [
    "response = llm(\"What's the formula for energy?\")\n",
    "print(response)\n",
    "print(f\"Total tokens:{len(response)}\")"
   ]
  }
 ],
 "metadata": {
  "kernelspec": {
   "display_name": "Python 3 (ipykernel)",
   "language": "python",
   "name": "python3"
  },
  "language_info": {
   "codemirror_mode": {
    "name": "ipython",
    "version": 3
   },
   "file_extension": ".py",
   "mimetype": "text/x-python",
   "name": "python",
   "nbconvert_exporter": "python",
   "pygments_lexer": "ipython3",
   "version": "3.8.18"
  }
 },
 "nbformat": 4,
 "nbformat_minor": 5
}
